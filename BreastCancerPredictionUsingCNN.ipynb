{
  "cells": [
    {
      "cell_type": "code",
      "execution_count": null,
      "metadata": {
        "id": "Oaj4SX36g-yH"
      },
      "outputs": [],
      "source": [
        "TRAIN_PATH = \"/content/drive/MyDrive/DATASETS/BreastCancerPrediction/train\"\n",
        "VAL_PATH = \"/content/drive/MyDrive/DATASETS/BreastCancerPrediction/valid\""
      ]
    },
    {
      "cell_type": "code",
      "execution_count": null,
      "metadata": {
        "id": "72v4PyzhhOba"
      },
      "outputs": [],
      "source": [
        "import numpy as np\n",
        "import matplotlib.pyplot as plt\n",
        "import keras\n",
        "from keras.layers import *\n",
        "from keras.models import *\n",
        "from keras.preprocessing import image "
      ]
    },
    {
      "cell_type": "code",
      "source": [
        "from google.colab import drive\n",
        "drive.mount('/content/drive')"
      ],
      "metadata": {
        "colab": {
          "base_uri": "https://localhost:8080/"
        },
        "id": "EtiMkmqQS39t",
        "outputId": "55de1603-c764-45f8-8476-5b40bb8669bc"
      },
      "execution_count": null,
      "outputs": [
        {
          "output_type": "stream",
          "name": "stdout",
          "text": [
            "Drive already mounted at /content/drive; to attempt to forcibly remount, call drive.mount(\"/content/drive\", force_remount=True).\n"
          ]
        }
      ]
    },
    {
      "cell_type": "code",
      "execution_count": null,
      "metadata": {
        "id": "pinUJ3WSohrY"
      },
      "outputs": [],
      "source": [
        "#CNN\n",
        "\n",
        "model = Sequential()\n",
        "model.add(Conv2D(32,kernel_size=(3,3),activation='relu',input_shape=(224,224,3)))\n",
        "model.add(Conv2D(64,(3,3),activation='relu'))\n",
        "model.add(MaxPooling2D(pool_size=(2,2)))\n",
        "model.add(Dropout(0.25))\n",
        "\n",
        "model.add(Conv2D(64,(3,3),activation='relu'))\n",
        "model.add(MaxPooling2D(pool_size=(2,2)))\n",
        "model.add(Dropout(0.25))\n",
        "\n",
        "model.add(Conv2D(128,(3,3),activation='relu'))\n",
        "model.add(MaxPooling2D(pool_size=(2,2)))\n",
        "model.add(Dropout(0.25))\n",
        "\n",
        "model.add(Flatten())\n",
        "model.add(Dense(64,activation='relu'))\n",
        "model.add(Dropout(0.5))\n",
        "model.add(Dense(1,activation='sigmoid'))"
      ]
    },
    {
      "cell_type": "code",
      "execution_count": null,
      "metadata": {
        "colab": {
          "base_uri": "https://localhost:8080/"
        },
        "id": "kyLGLuG2pPYm",
        "outputId": "12505e64-4466-4faf-db48-da965a8c459d"
      },
      "outputs": [
        {
          "output_type": "stream",
          "name": "stdout",
          "text": [
            "Model: \"sequential\"\n",
            "_________________________________________________________________\n",
            " Layer (type)                Output Shape              Param #   \n",
            "=================================================================\n",
            " conv2d (Conv2D)             (None, 222, 222, 32)      896       \n",
            "                                                                 \n",
            " conv2d_1 (Conv2D)           (None, 220, 220, 64)      18496     \n",
            "                                                                 \n",
            " max_pooling2d (MaxPooling2D  (None, 110, 110, 64)     0         \n",
            " )                                                               \n",
            "                                                                 \n",
            " dropout (Dropout)           (None, 110, 110, 64)      0         \n",
            "                                                                 \n",
            " conv2d_2 (Conv2D)           (None, 108, 108, 64)      36928     \n",
            "                                                                 \n",
            " max_pooling2d_1 (MaxPooling  (None, 54, 54, 64)       0         \n",
            " 2D)                                                             \n",
            "                                                                 \n",
            " dropout_1 (Dropout)         (None, 54, 54, 64)        0         \n",
            "                                                                 \n",
            " conv2d_3 (Conv2D)           (None, 52, 52, 128)       73856     \n",
            "                                                                 \n",
            " max_pooling2d_2 (MaxPooling  (None, 26, 26, 128)      0         \n",
            " 2D)                                                             \n",
            "                                                                 \n",
            " dropout_2 (Dropout)         (None, 26, 26, 128)       0         \n",
            "                                                                 \n",
            " flatten (Flatten)           (None, 86528)             0         \n",
            "                                                                 \n",
            " dense (Dense)               (None, 64)                5537856   \n",
            "                                                                 \n",
            " dropout_3 (Dropout)         (None, 64)                0         \n",
            "                                                                 \n",
            " dense_1 (Dense)             (None, 1)                 65        \n",
            "                                                                 \n",
            "=================================================================\n",
            "Total params: 5,668,097\n",
            "Trainable params: 5,668,097\n",
            "Non-trainable params: 0\n",
            "_________________________________________________________________\n"
          ]
        }
      ],
      "source": [
        "model.compile(loss=keras.losses.binary_crossentropy,optimizer='adam',metrics=['accuracy'])\n",
        "model.summary()"
      ]
    },
    {
      "cell_type": "code",
      "execution_count": null,
      "metadata": {
        "id": "aNPKu8aqp7pI"
      },
      "outputs": [],
      "source": [
        "train_datagen=image.ImageDataGenerator(\n",
        "    rescale=1./255,\n",
        "    shear_range=0.2,\n",
        "    zoom_range=0.2,\n",
        "    horizontal_flip=True\n",
        ")"
      ]
    },
    {
      "cell_type": "code",
      "execution_count": null,
      "metadata": {
        "id": "7Mtbo_tfqJlC"
      },
      "outputs": [],
      "source": [
        "val_dataset=train_datagen=image.ImageDataGenerator(\n",
        "    rescale=1./255,\n",
        "    shear_range=0.2,\n",
        "    zoom_range=0.2,\n",
        "    horizontal_flip=True\n",
        ")"
      ]
    },
    {
      "cell_type": "code",
      "source": [
        "test_dataset=image.ImageDataGenerator(rescale=1./255)"
      ],
      "metadata": {
        "id": "kllEc6rcdTEs"
      },
      "execution_count": null,
      "outputs": []
    },
    {
      "cell_type": "code",
      "execution_count": null,
      "metadata": {
        "colab": {
          "base_uri": "https://localhost:8080/"
        },
        "id": "lsdFjefHqO8V",
        "outputId": "879ee302-99ad-4b42-b691-223cb2f4b707"
      },
      "outputs": [
        {
          "output_type": "stream",
          "name": "stdout",
          "text": [
            "Found 2400 images belonging to 2 classes.\n"
          ]
        },
        {
          "output_type": "execute_result",
          "data": {
            "text/plain": [
              "{'0_NoCancer': 0, '1_Cancer': 1}"
            ]
          },
          "metadata": {},
          "execution_count": 9
        }
      ],
      "source": [
        "train_generator=train_datagen.flow_from_directory(\n",
        "    TRAIN_PATH,\n",
        "    target_size=(224,224),\n",
        "    batch_size=32,\n",
        "    class_mode='binary'\n",
        ")\n",
        "\n",
        "train_generator.class_indices"
      ]
    },
    {
      "cell_type": "code",
      "execution_count": null,
      "metadata": {
        "colab": {
          "base_uri": "https://localhost:8080/"
        },
        "id": "j_Ks1mK8qigD",
        "outputId": "c69bb08d-0f5d-44d2-f63a-00d58f6f0729"
      },
      "outputs": [
        {
          "output_type": "stream",
          "name": "stdout",
          "text": [
            "Found 640 images belonging to 2 classes.\n"
          ]
        },
        {
          "output_type": "execute_result",
          "data": {
            "text/plain": [
              "{'0_NoCancer': 0, '1_Cancer': 1}"
            ]
          },
          "metadata": {},
          "execution_count": 10
        }
      ],
      "source": [
        "validation_generator = val_dataset.flow_from_directory(\n",
        "    VAL_PATH,\n",
        "    target_size=(224,224),\n",
        "    batch_size=32,\n",
        "    class_mode='binary'\n",
        ")\n",
        "\n",
        "validation_generator.class_indices"
      ]
    },
    {
      "cell_type": "code",
      "source": [
        "test_generator = test_dataset.flow_from_directory(\n",
        "    '/content/drive/MyDrive/DATASETS/BreastCancerPrediction/test',\n",
        "    target_size=(224,224),\n",
        "    batch_size=32,\n",
        "    class_mode='binary'\n",
        ")\n",
        "\n",
        "test_generator.class_indices"
      ],
      "metadata": {
        "colab": {
          "base_uri": "https://localhost:8080/"
        },
        "id": "bmDcNxbFcq2c",
        "outputId": "9e151882-60d0-4e44-8c37-cabc5d724dfe"
      },
      "execution_count": null,
      "outputs": [
        {
          "output_type": "stream",
          "name": "stdout",
          "text": [
            "Found 160 images belonging to 2 classes.\n"
          ]
        },
        {
          "output_type": "execute_result",
          "data": {
            "text/plain": [
              "{'0_NoCancer': 0, '1_Cancer': 1}"
            ]
          },
          "metadata": {},
          "execution_count": 11
        }
      ]
    },
    {
      "cell_type": "code",
      "execution_count": null,
      "metadata": {
        "colab": {
          "base_uri": "https://localhost:8080/"
        },
        "id": "huiuuJK2qvRl",
        "outputId": "6b56709e-aea4-4ef8-aacc-ff17ebaf1f2b"
      },
      "outputs": [
        {
          "output_type": "stream",
          "name": "stderr",
          "text": [
            "/usr/local/lib/python3.7/dist-packages/ipykernel_launcher.py:6: UserWarning: `Model.fit_generator` is deprecated and will be removed in a future version. Please use `Model.fit`, which supports generators.\n",
            "  \n"
          ]
        },
        {
          "output_type": "stream",
          "name": "stdout",
          "text": [
            "Epoch 1/50\n",
            "15/15 [==============================] - 16s 722ms/step - loss: 1.1698 - accuracy: 0.5042 - val_loss: 0.6925 - val_accuracy: 0.4688\n",
            "Epoch 2/50\n",
            "15/15 [==============================] - 10s 690ms/step - loss: 0.6970 - accuracy: 0.4771 - val_loss: 0.6931 - val_accuracy: 0.4609\n",
            "Epoch 3/50\n",
            "15/15 [==============================] - 10s 695ms/step - loss: 0.6729 - accuracy: 0.4938 - val_loss: 0.6887 - val_accuracy: 0.7031\n",
            "Epoch 4/50\n",
            "15/15 [==============================] - 10s 677ms/step - loss: 0.6615 - accuracy: 0.5021 - val_loss: 0.6932 - val_accuracy: 0.4844\n",
            "Epoch 5/50\n",
            "15/15 [==============================] - 10s 687ms/step - loss: 0.6943 - accuracy: 0.5083 - val_loss: 0.6922 - val_accuracy: 0.5391\n",
            "Epoch 6/50\n",
            "15/15 [==============================] - 10s 677ms/step - loss: 0.6924 - accuracy: 0.5125 - val_loss: 0.6928 - val_accuracy: 0.4922\n",
            "Epoch 7/50\n",
            "15/15 [==============================] - 10s 672ms/step - loss: 0.6940 - accuracy: 0.4917 - val_loss: 0.6920 - val_accuracy: 0.5469\n",
            "Epoch 8/50\n",
            "15/15 [==============================] - 10s 684ms/step - loss: 0.6861 - accuracy: 0.5146 - val_loss: 0.6660 - val_accuracy: 0.8047\n",
            "Epoch 9/50\n",
            "15/15 [==============================] - 10s 675ms/step - loss: 0.6186 - accuracy: 0.7021 - val_loss: 0.4841 - val_accuracy: 0.8438\n",
            "Epoch 10/50\n",
            "15/15 [==============================] - 10s 681ms/step - loss: 0.5199 - accuracy: 0.7750 - val_loss: 0.4656 - val_accuracy: 0.8047\n",
            "Epoch 11/50\n",
            "15/15 [==============================] - 10s 681ms/step - loss: 0.4736 - accuracy: 0.8062 - val_loss: 0.5066 - val_accuracy: 0.7500\n",
            "Epoch 12/50\n",
            "15/15 [==============================] - 10s 674ms/step - loss: 0.4938 - accuracy: 0.7979 - val_loss: 0.5281 - val_accuracy: 0.7891\n",
            "Epoch 13/50\n",
            "15/15 [==============================] - 10s 679ms/step - loss: 0.4178 - accuracy: 0.8458 - val_loss: 0.3577 - val_accuracy: 0.8750\n",
            "Epoch 14/50\n",
            "15/15 [==============================] - 10s 684ms/step - loss: 0.4646 - accuracy: 0.8042 - val_loss: 0.4735 - val_accuracy: 0.8125\n",
            "Epoch 15/50\n",
            "15/15 [==============================] - 10s 678ms/step - loss: 0.4481 - accuracy: 0.8292 - val_loss: 0.4632 - val_accuracy: 0.7969\n",
            "Epoch 16/50\n",
            "15/15 [==============================] - 10s 681ms/step - loss: 0.4447 - accuracy: 0.8125 - val_loss: 0.5960 - val_accuracy: 0.6250\n",
            "Epoch 17/50\n",
            "15/15 [==============================] - 10s 688ms/step - loss: 0.5129 - accuracy: 0.7875 - val_loss: 0.4801 - val_accuracy: 0.8047\n",
            "Epoch 18/50\n",
            "15/15 [==============================] - 10s 690ms/step - loss: 0.4639 - accuracy: 0.8146 - val_loss: 0.4527 - val_accuracy: 0.7969\n",
            "Epoch 19/50\n",
            "15/15 [==============================] - 10s 682ms/step - loss: 0.4316 - accuracy: 0.8417 - val_loss: 0.3847 - val_accuracy: 0.8516\n",
            "Epoch 20/50\n",
            "15/15 [==============================] - 10s 694ms/step - loss: 0.4181 - accuracy: 0.8354 - val_loss: 0.3157 - val_accuracy: 0.8906\n",
            "Epoch 21/50\n",
            "15/15 [==============================] - 10s 698ms/step - loss: 0.4075 - accuracy: 0.8250 - val_loss: 0.3766 - val_accuracy: 0.8281\n",
            "Epoch 22/50\n",
            "15/15 [==============================] - 10s 685ms/step - loss: 0.4011 - accuracy: 0.8354 - val_loss: 0.4200 - val_accuracy: 0.8125\n",
            "Epoch 23/50\n",
            "15/15 [==============================] - 10s 685ms/step - loss: 0.4150 - accuracy: 0.8188 - val_loss: 0.5116 - val_accuracy: 0.7812\n",
            "Epoch 24/50\n",
            "15/15 [==============================] - 10s 687ms/step - loss: 0.4760 - accuracy: 0.7896 - val_loss: 0.4363 - val_accuracy: 0.8281\n",
            "Epoch 25/50\n",
            "15/15 [==============================] - 10s 690ms/step - loss: 0.4789 - accuracy: 0.8104 - val_loss: 0.4260 - val_accuracy: 0.8359\n",
            "Epoch 26/50\n",
            "15/15 [==============================] - 10s 698ms/step - loss: 0.4321 - accuracy: 0.8250 - val_loss: 0.3929 - val_accuracy: 0.8516\n",
            "Epoch 27/50\n",
            "15/15 [==============================] - 10s 692ms/step - loss: 0.3958 - accuracy: 0.8313 - val_loss: 0.5091 - val_accuracy: 0.8047\n",
            "Epoch 28/50\n",
            "15/15 [==============================] - 11s 703ms/step - loss: 0.4848 - accuracy: 0.7937 - val_loss: 0.5673 - val_accuracy: 0.6953\n",
            "Epoch 29/50\n",
            "15/15 [==============================] - 11s 700ms/step - loss: 0.4863 - accuracy: 0.8000 - val_loss: 0.3753 - val_accuracy: 0.8594\n",
            "Epoch 30/50\n",
            "15/15 [==============================] - 10s 699ms/step - loss: 0.4636 - accuracy: 0.8021 - val_loss: 0.4469 - val_accuracy: 0.8281\n",
            "Epoch 31/50\n",
            "15/15 [==============================] - 10s 697ms/step - loss: 0.4871 - accuracy: 0.8146 - val_loss: 0.4570 - val_accuracy: 0.8516\n",
            "Epoch 32/50\n",
            "15/15 [==============================] - 10s 693ms/step - loss: 0.4661 - accuracy: 0.8188 - val_loss: 0.4320 - val_accuracy: 0.8281\n",
            "Epoch 33/50\n",
            "15/15 [==============================] - 10s 686ms/step - loss: 0.3812 - accuracy: 0.8521 - val_loss: 0.4038 - val_accuracy: 0.8516\n",
            "Epoch 34/50\n",
            "15/15 [==============================] - 10s 687ms/step - loss: 0.4698 - accuracy: 0.8271 - val_loss: 0.3999 - val_accuracy: 0.8750\n",
            "Epoch 35/50\n",
            "15/15 [==============================] - 10s 688ms/step - loss: 0.4442 - accuracy: 0.8271 - val_loss: 0.4834 - val_accuracy: 0.8125\n",
            "Epoch 36/50\n",
            "15/15 [==============================] - 10s 686ms/step - loss: 0.3997 - accuracy: 0.8458 - val_loss: 0.3209 - val_accuracy: 0.8984\n",
            "Epoch 37/50\n",
            "15/15 [==============================] - 10s 692ms/step - loss: 0.4176 - accuracy: 0.8333 - val_loss: 0.4327 - val_accuracy: 0.8047\n",
            "Epoch 38/50\n",
            "15/15 [==============================] - 11s 698ms/step - loss: 0.4037 - accuracy: 0.8438 - val_loss: 0.4155 - val_accuracy: 0.8047\n",
            "Epoch 39/50\n",
            "15/15 [==============================] - 10s 687ms/step - loss: 0.4197 - accuracy: 0.8042 - val_loss: 0.4894 - val_accuracy: 0.7656\n",
            "Epoch 40/50\n",
            "15/15 [==============================] - 10s 699ms/step - loss: 0.4317 - accuracy: 0.8292 - val_loss: 0.3629 - val_accuracy: 0.8672\n",
            "Epoch 41/50\n",
            "15/15 [==============================] - 10s 689ms/step - loss: 0.4568 - accuracy: 0.7937 - val_loss: 0.4725 - val_accuracy: 0.7734\n",
            "Epoch 42/50\n",
            "15/15 [==============================] - 10s 683ms/step - loss: 0.4558 - accuracy: 0.8083 - val_loss: 0.3921 - val_accuracy: 0.8438\n",
            "Epoch 43/50\n",
            "15/15 [==============================] - 10s 694ms/step - loss: 0.4498 - accuracy: 0.8188 - val_loss: 0.3921 - val_accuracy: 0.8516\n",
            "Epoch 44/50\n",
            "15/15 [==============================] - 10s 686ms/step - loss: 0.4237 - accuracy: 0.8188 - val_loss: 0.4398 - val_accuracy: 0.8125\n",
            "Epoch 45/50\n",
            "15/15 [==============================] - 10s 690ms/step - loss: 0.4253 - accuracy: 0.8167 - val_loss: 0.3766 - val_accuracy: 0.8516\n",
            "Epoch 46/50\n",
            "15/15 [==============================] - 10s 690ms/step - loss: 0.4807 - accuracy: 0.8042 - val_loss: 0.4140 - val_accuracy: 0.8594\n",
            "Epoch 47/50\n",
            "15/15 [==============================] - 10s 686ms/step - loss: 0.3685 - accuracy: 0.8500 - val_loss: 0.3753 - val_accuracy: 0.8594\n",
            "Epoch 48/50\n",
            "15/15 [==============================] - 10s 699ms/step - loss: 0.4192 - accuracy: 0.8229 - val_loss: 0.4154 - val_accuracy: 0.8281\n",
            "Epoch 49/50\n",
            "15/15 [==============================] - 10s 695ms/step - loss: 0.4324 - accuracy: 0.8333 - val_loss: 0.4066 - val_accuracy: 0.8438\n",
            "Epoch 50/50\n",
            "15/15 [==============================] - 10s 689ms/step - loss: 0.4109 - accuracy: 0.8333 - val_loss: 0.3319 - val_accuracy: 0.8828\n"
          ]
        }
      ],
      "source": [
        "hist=model.fit_generator(\n",
        "    train_generator,\n",
        "    steps_per_epoch=15,\n",
        "    epochs=50,\n",
        "    validation_data=validation_generator,\n",
        "    validation_steps=4\n",
        ")"
      ]
    },
    {
      "cell_type": "code",
      "execution_count": null,
      "metadata": {
        "id": "MkCezmUmq55X",
        "colab": {
          "base_uri": "https://localhost:8080/",
          "height": 283
        },
        "outputId": "629e366d-9f4b-41bc-eee5-4fa8bddc03b3"
      },
      "outputs": [
        {
          "output_type": "display_data",
          "data": {
            "image/png": "[encoded data removed]",
            "text/plain": [
              "<Figure size 432x288 with 1 Axes>"
            ]
          },
          "metadata": {
            "needs_background": "light"
          }
        },
        {
          "output_type": "display_data",
          "data": {
            "text/plain": [
              "<Figure size 432x288 with 0 Axes>"
            ]
          },
          "metadata": {}
        }
      ],
      "source": [
        "plt.plot(hist.history['loss'],label='train loss')\n",
        "plt.plot(hist.history['val_loss'],label='val loss')\n",
        "plt.legend()\n",
        "plt.show()\n",
        "plt.savefig('LossVal_loss')"
      ]
    },
    {
      "cell_type": "code",
      "source": [
        "plt.plot(hist.history['accuracy'],label='train acc')\n",
        "plt.plot(hist.history['val_accuracy'],label='val acc')\n",
        "plt.legend()\n",
        "plt.show()\n",
        "plt.savefig('AccVal_acc')"
      ],
      "metadata": {
        "colab": {
          "base_uri": "https://localhost:8080/",
          "height": 282
        },
        "id": "JQD3Eb0lYFic",
        "outputId": "7fcac5f1-14cc-455e-8bac-8500ae2af133"
      },
      "execution_count": null,
      "outputs": [
        {
          "output_type": "display_data",
          "data": {
            "image/png": "[encoded data removed]",
            "text/plain": [
              "<Figure size 432x288 with 1 Axes>"
            ]
          },
          "metadata": {
            "needs_background": "light"
          }
        },
        {
          "output_type": "display_data",
          "data": {
            "text/plain": [
              "<Figure size 432x288 with 0 Axes>"
            ]
          },
          "metadata": {}
        }
      ]
    },
    {
      "cell_type": "code",
      "source": [
        "a=max(hist.history['val_accuracy'])"
      ],
      "metadata": {
        "id": "MR_U1vHqbzxc"
      },
      "execution_count": null,
      "outputs": []
    },
    {
      "cell_type": "code",
      "source": [
        "a"
      ],
      "metadata": {
        "colab": {
          "base_uri": "https://localhost:8080/"
        },
        "id": "MKCUXM2-YOOj",
        "outputId": "6fd5d1ff-517a-4ff5-da01-eee19f7c7e2a"
      },
      "execution_count": null,
      "outputs": [
        {
          "output_type": "execute_result",
          "data": {
            "text/plain": [
              "0.90625"
            ]
          },
          "metadata": {},
          "execution_count": 23
        }
      ]
    },
    {
      "cell_type": "code",
      "source": [
        ""
      ],
      "metadata": {
        "id": "Fz1IEL4Rb9Nl"
      },
      "execution_count": null,
      "outputs": []
    }
  ],
  "metadata": {
    "accelerator": "GPU",
    "colab": {
      "collapsed_sections": [],
      "name": "BreastCancerPredictionUsingNN.ipynb",
      "provenance": []
    },
    "kernelspec": {
      "display_name": "Python 3",
      "name": "python3"
    },
    "language_info": {
      "name": "python"
    }
  },
  "nbformat": 4,
  "nbformat_minor": 0
}